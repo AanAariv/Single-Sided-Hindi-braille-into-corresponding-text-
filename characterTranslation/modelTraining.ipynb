{
 "cells": [
  {
   "cell_type": "code",
   "execution_count": 2,
   "metadata": {
    "_cell_guid": "79c7e3d0-c299-4dcb-8224-4455121ee9b0",
    "_uuid": "d629ff2d2480ee46fbb7e2d37f6b5fab8052498a"
   },
   "outputs": [
    {
     "name": "stderr",
     "output_type": "stream",
     "text": [
      "Using TensorFlow backend.\n"
     ]
    }
   ],
   "source": [
    "import tensorflow as tf\n",
    "import numpy as np\n",
    "from tensorflow.keras.models import Sequential\n",
    "from tensorflow.keras.layers import Dense, Dropout, Activation, Flatten, Conv2D, MaxPooling2D\n",
    "from keras.preprocessing.image import ImageDataGenerator\n",
    "from tensorflow.keras.optimizers import Adam\n",
    "from tensorflow.keras.callbacks import TensorBoard\n",
    "from keras.callbacks import ModelCheckpoint\n",
    "import pickle\n",
    "from matplotlib import pyplot\n",
    "import os\n",
    "from shutil import copyfile\n",
    "#from keras import losses\n",
    "from tensorboard import notebook\n",
    "import datetime\n",
    "import time\n",
    "import natsort"
   ]
  },
  {
   "cell_type": "code",
   "execution_count": 3,
   "metadata": {},
   "outputs": [
    {
     "name": "stdout",
     "output_type": "stream",
     "text": [
      "61\n",
      "['ँ', 'ं', 'ः', 'अ', 'आ', 'इ', 'ई', 'उ', 'ऊ', 'ऋ', 'ऌ', 'ऎ', 'ए', 'ऐ', 'ऒ', 'ओ', 'औ', 'क', 'ख', 'ग', 'घ', 'ङ', 'च', 'छ', 'ज', 'झ', 'ञ', 'ट', 'ठ', 'ड', 'ढ', 'ण', 'त', 'थ', 'द', 'ध', 'न', 'प', 'फ', 'ब', 'भ', 'म', 'य', 'र', 'ल', 'ळ', 'व', 'श', 'ष', 'स', 'ह', 'ऽ', '्', 'ज़', 'ड़', 'ढ़', 'फ़', 'ॠ', 'ॡ', '।', '॥']\n",
      "अ\n"
     ]
    }
   ],
   "source": [
    "hindi_char= chr(2307)\n",
    "CATEGORIES= []\n",
    "for i in range(2305, 2366):\n",
    "    if not i in (2308, 2317, 2321, 2345, 2353, 2356, 2362, 2363, 2364):\n",
    "        hindi_char= chr(i)\n",
    "        CATEGORIES.append(hindi_char)\n",
    "        \n",
    "CATEGORIES.append(chr(2381))\n",
    "CATEGORIES.append(chr(2395))\n",
    "CATEGORIES.append(chr(2396))\n",
    "CATEGORIES.append(chr(2397))\n",
    "CATEGORIES.append(chr(2398))\n",
    "CATEGORIES.append(chr(2400))\n",
    "CATEGORIES.append(chr(2401))\n",
    "CATEGORIES.append(chr(2404))\n",
    "CATEGORIES.append(chr(2405))\n",
    "print(len(CATEGORIES))\n",
    "print(CATEGORIES)\n",
    "print(CATEGORIES[3])"
   ]
  },
  {
   "cell_type": "code",
   "execution_count": null,
   "metadata": {},
   "outputs": [],
   "source": [
    "if not os.path.exists('./images/'):\n",
    "    os.mkdir('./images/')\n",
    "for i in CATEGORIES:\n",
    "    hindi_char= i\n",
    "    create_path= './images/'+ hindi_char\n",
    "    if not os.path.exists(create_path):\n",
    "        os.mkdir(create_path)"
   ]
  },
  {
   "cell_type": "code",
   "execution_count": null,
   "metadata": {},
   "outputs": [],
   "source": [
    "rootdir= '/kaggle/input/bharati-braille-characters/hindiBrailleChar_1/'\n",
    "for folder in os.listdir(rootdir):\n",
    "    path_file= rootdir+folder+'/'\n",
    "    for file in os.listdir(path_file):\n",
    "        letter= file[0]\n",
    "        copyfile(path_file+ file, './images/' + letter + '/' + file)\n",
    "print(\"success\")"
   ]
  },
  {
   "cell_type": "code",
   "execution_count": null,
   "metadata": {},
   "outputs": [],
   "source": [
    "train_dir= './images/'\n",
    "test_dir= './images/'\n",
    "\n",
    "train_datagen = ImageDataGenerator(\n",
    "        rescale=1./255,\n",
    "        rotation_range= 20,\n",
    "#         height_shift_range= 0.1,\n",
    "#         validation_split=0.2,\n",
    ") # Generator for our training data\n",
    "validation_image_generator = ImageDataGenerator(rescale=1./255) # Generator for our validation data\n",
    "\n",
    "\n",
    "train_data_gen = train_datagen.flow_from_directory(batch_size=32,\n",
    "                                                           directory=train_dir,\n",
    "                                                           color_mode='grayscale',\n",
    "                                                           shuffle=True,\n",
    "                                                           target_size=(28, 28),\n",
    "                                                           class_mode='binary')\n",
    "\n",
    "val_data_gen = validation_image_generator.flow_from_directory(batch_size=32,\n",
    "                                                              directory=test_dir,\n",
    "                                                              color_mode='grayscale',\n",
    "                                                              target_size=(28, 28),\n",
    "                                                              class_mode='binary')\n",
    "# val_data_predict= flow_from_directory(batch_size=32,\n",
    "#                                     directory=test_dir,\n",
    "#                                     color_mode='grayscale',\n",
    "#                                     target_size=(28, 28),\n",
    "#                                     class_mode='binary')"
   ]
  },
  {
   "cell_type": "code",
   "execution_count": null,
   "metadata": {},
   "outputs": [],
   "source": [
    "dense_layers= [3]\n",
    "layer_sizes= [256]\n",
    "conv_layers= [3]"
   ]
  },
  {
   "cell_type": "code",
   "execution_count": null,
   "metadata": {},
   "outputs": [],
   "source": [
    "for dense_layer in dense_layers:\n",
    "    for layer_size in layer_sizes:\n",
    "        for conv_layer in conv_layers:\n",
    "            NAME= \"{}-conv-{}-layers-{}-dense-{}\".format(conv_layer, layer_size, dense_layer, int(time.time()))\n",
    "            print(NAME)\n",
    "            print(\"new model training below:\\n\\n\\n\")\n",
    "            \n",
    "            model = Sequential()\n",
    "\n",
    "            model.add(Conv2D(layer_size, (3, 3), input_shape=(28,28,1), activation = \"relu\"))\n",
    "\n",
    "            model.add(MaxPooling2D(pool_size=(2, 2)))\n",
    "            \n",
    "            for l in range(conv_layer-1):\n",
    "                model.add(Conv2D(layer_size, (3, 3), activation = \"relu\", padding='same'))\n",
    "                model.add(MaxPooling2D(pool_size=(2, 2)))\n",
    "                \n",
    "            \n",
    "            model.add(Flatten()) # this converts our 3D feature maps to 1D feature vectors\n",
    "            for l in range(dense_layer):\n",
    "                model.add(Dense(layer_size, activation= \"relu\"))\n",
    "\n",
    "            \n",
    "            model.add(Dense(61, activation = \"softmax\"))\n",
    "\n",
    "            model.compile(optimizer='adam', loss='sparse_categorical_crossentropy', metrics=['accuracy'])\n",
    "            filepath=\"weights.best.hdf5\"\n",
    "            checkpoint = ModelCheckpoint(filepath, monitor='val_accuracy', verbose=1, save_best_only=True, mode='max')\n",
    "            \n",
    "            path= \"./logs/fit\"+ datetime.datetime.now().strftime(\"%Y%m%d-%H%M%S\")\n",
    "            \n",
    "            tensorboard_callback = TensorBoard(log_dir= 'logs/{}'.format(NAME))\n",
    "\n",
    "            history= model.fit_generator(\n",
    "                train_data_gen,\n",
    "                steps_per_epoch=138,\n",
    "                epochs=30,\n",
    "                validation_data=val_data_gen,\n",
    "                validation_steps=9,\n",
    "                callbacks=[checkpoint]\n",
    "            )\n",
    "            model.save(\"model.h5\")"
   ]
  },
  {
   "cell_type": "code",
   "execution_count": null,
   "metadata": {},
   "outputs": [],
   "source": [
    "IMG_SIZE=28\n",
    "model.load_weights('model.h5')\n",
    "# model = tf.keras.models.load_model('weights.best.hdf5')\n",
    "acc = model.evaluate_generator(val_data_gen)[1]\n",
    "print('model accuracy: {}'.format(round(acc,4)))\n",
    "# model.evaluate()\n",
    "\n",
    "# model = load_model('model.h5')"
   ]
  },
  {
   "cell_type": "code",
   "execution_count": null,
   "metadata": {},
   "outputs": [],
   "source": []
  }
 ],
 "metadata": {
  "kernelspec": {
   "display_name": "Python 3",
   "language": "python",
   "name": "python3"
  },
  "language_info": {
   "codemirror_mode": {
    "name": "ipython",
    "version": 3
   },
   "file_extension": ".py",
   "mimetype": "text/x-python",
   "name": "python",
   "nbconvert_exporter": "python",
   "pygments_lexer": "ipython3",
   "version": "3.7.4"
  }
 },
 "nbformat": 4,
 "nbformat_minor": 4
}
