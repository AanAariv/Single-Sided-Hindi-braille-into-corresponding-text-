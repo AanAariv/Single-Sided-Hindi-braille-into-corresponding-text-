{
 "cells": [
  {
   "cell_type": "code",
   "execution_count": 6,
   "metadata": {},
   "outputs": [],
   "source": [
    "import cv2\n",
    "import numpy as np\n",
    "from PIL import Image\n",
    "import tensorflow as tf\n",
    "from keras import models\n",
    "import matplotlib.pyplot as plt\n",
    "import os\n",
    "import natsort"
   ]
  },
  {
   "cell_type": "code",
   "execution_count": 7,
   "metadata": {},
   "outputs": [],
   "source": [
    "IMG_SIZE=28\n",
    "model=tf.keras.models.load_model(\"/Users/abhishekpandey/Desktop/stuff/MajorProject/git_repo/characterTranslation/model.h5\")\n",
    "\n",
    "z=0\n",
    "rootFolder= '/Users/abhishekpandey/Desktop/stuff/MajorProject/main/segmentation/charWise/output'\n",
    "rowPrefix='row'\n",
    "wordPrefix= 'word'\n",
    "charPrefix= 'character'\n",
    "rowNumber=1\n",
    "wordNumber=1\n",
    "charNumber=0"
   ]
  },
  {
   "cell_type": "code",
   "execution_count": 8,
   "metadata": {},
   "outputs": [
    {
     "name": "stdout",
     "output_type": "stream",
     "text": [
      "61\n",
      "['ँ', 'ं', 'ः', 'अ', 'आ', 'इ', 'ई', 'उ', 'ऊ', 'ऋ', 'ऌ', 'ऎ', 'ए', 'ऐ', 'ऒ', 'ओ', 'औ', 'क', 'ख', 'ग', 'घ', 'ङ', 'च', 'छ', 'ज', 'झ', 'ञ', 'ट', 'ठ', 'ड', 'ढ', 'ण', 'त', 'थ', 'द', 'ध', 'न', 'प', 'फ', 'ब', 'भ', 'म', 'य', 'र', 'ल', 'ळ', 'व', 'श', 'ष', 'स', 'ह', 'ऽ', '्', 'ज़', 'ड़', 'ढ़', 'फ़', 'ॠ', 'ॡ', '।', '॥']\n",
      "स\n"
     ]
    }
   ],
   "source": [
    "hindi_char= chr(2307)\n",
    "CATEGORIES= []\n",
    "for i in range(2305, 2366):\n",
    "    if not i in (2308, 2317, 2321, 2345, 2353, 2356, 2362, 2363, 2364):\n",
    "        hindi_char= chr(i)\n",
    "        CATEGORIES.append(hindi_char)\n",
    "        \n",
    "CATEGORIES.append(chr(2381))\n",
    "CATEGORIES.append(chr(2395))\n",
    "CATEGORIES.append(chr(2396))\n",
    "CATEGORIES.append(chr(2397))\n",
    "CATEGORIES.append(chr(2398))\n",
    "CATEGORIES.append(chr(2400))\n",
    "CATEGORIES.append(chr(2401))\n",
    "CATEGORIES.append(chr(2404))\n",
    "CATEGORIES.append(chr(2405))\n",
    "length_of_categories= len(CATEGORIES)\n",
    "print(len(CATEGORIES))\n",
    "print(CATEGORIES)\n",
    "print(CATEGORIES[49])"
   ]
  },
  {
   "cell_type": "code",
   "execution_count": 9,
   "metadata": {},
   "outputs": [
    {
     "name": "stdout",
     "output_type": "stream",
     "text": [
      "कपड़ए सआफ पहनओ \n",
      "कअपदए सअअपह पअहअनओ \n",
      "चलऽन ँठएआ चलओधस \n"
     ]
    }
   ],
   "source": [
    "z=0\n",
    "rows= os.listdir(rootFolder)\n",
    "rows= natsort.natsorted(rows)\n",
    "for rowName in rows:\n",
    "    if not rowName.startswith('.'):\n",
    "        row= os.path.join(rootFolder, rowName)\n",
    "        words= os.listdir(row)\n",
    "        words= natsort.natsorted(words)\n",
    "        for wordName in words:\n",
    "            if not wordName.startswith('.'):\n",
    "                word= os.path.join(row, wordName)\n",
    "                characters= os.listdir(word)\n",
    "                characters= natsort.natsorted(characters)\n",
    "                for character in characters:\n",
    "                    img= cv2.imread(os.path.join(word,character))\n",
    "                    #print(os.path.join(folder, filename))\n",
    "                    if img is not None:\n",
    "                        img_hsv = cv2.cvtColor(img, cv2.COLOR_BGR2GRAY)\n",
    "                        img_array = cv2.resize(img_hsv, (IMG_SIZE, IMG_SIZE))\n",
    "#                         plt.imshow(img_array, cmap= plt.get_cmap('gray'))\n",
    "#                         plt.show()\n",
    "                        new_array = img_array.reshape(-1,IMG_SIZE,IMG_SIZE,1)\n",
    "                        prediction = model.predict([new_array])\n",
    "                        for i in range(length_of_categories):\n",
    "                            if (prediction[0][i] == 1):\n",
    "                                z = i\n",
    "                        print(CATEGORIES[z], end=\"\")\n",
    "                print(\" \", end= \"\")\n",
    "        print(\"\\n\", end=\"\")"
   ]
  },
  {
   "cell_type": "code",
   "execution_count": null,
   "metadata": {},
   "outputs": [],
   "source": []
  }
 ],
 "metadata": {
  "kernelspec": {
   "display_name": "Python 3",
   "language": "python",
   "name": "python3"
  },
  "language_info": {
   "codemirror_mode": {
    "name": "ipython",
    "version": 3
   },
   "file_extension": ".py",
   "mimetype": "text/x-python",
   "name": "python",
   "nbconvert_exporter": "python",
   "pygments_lexer": "ipython3",
   "version": "3.7.4"
  }
 },
 "nbformat": 4,
 "nbformat_minor": 2
}
