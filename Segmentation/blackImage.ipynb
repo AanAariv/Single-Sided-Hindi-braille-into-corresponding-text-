{
 "cells": [
  {
   "cell_type": "code",
   "execution_count": 1,
   "metadata": {},
   "outputs": [],
   "source": [
    "# Imports PIL module \n",
    "from PIL import Image\n",
    "  \n",
    "# creating a image object (new image object) with \n",
    "# RGB mode and size 200x200 \n",
    "im = Image.new(mode = \"RGB\", size = (100, 110)) \n",
    "im.save('/Users/abhishekpandey/Desktop/stuff/MajorProject/main/segmentation/charWise/black.png') \n",
    "# This method will show image in any image viewer \n",
    "im.show() "
   ]
  },
  {
   "cell_type": "code",
   "execution_count": null,
   "metadata": {},
   "outputs": [],
   "source": []
  }
 ],
 "metadata": {
  "kernelspec": {
   "display_name": "Python 3",
   "language": "python",
   "name": "python3"
  },
  "language_info": {
   "codemirror_mode": {
    "name": "ipython",
    "version": 3
   },
   "file_extension": ".py",
   "mimetype": "text/x-python",
   "name": "python",
   "nbconvert_exporter": "python",
   "pygments_lexer": "ipython3",
   "version": "3.7.4"
  }
 },
 "nbformat": 4,
 "nbformat_minor": 2
}
