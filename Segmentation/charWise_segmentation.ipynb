{
 "cells": [
  {
   "cell_type": "code",
   "execution_count": 1,
   "metadata": {},
   "outputs": [],
   "source": [
    "from __future__ import print_function\n",
    "from PIL import Image\n",
    "import cv2\n",
    "import numpy as np\n",
    "import math\n",
    "import string\n",
    "import sys\n",
    "import os"
   ]
  },
  {
   "cell_type": "code",
   "execution_count": 2,
   "metadata": {},
   "outputs": [],
   "source": [
    "count=0\n",
    "part=0\n",
    "rowNumber= 0\n",
    "outputRowPath= '/Users/abhishekpandey/Desktop/stuff/MajorProject/main/segmentation/charWise/output'\n",
    "inputRowPath= '/Users/abhishekpandey/Desktop/stuff/MajorProject/main/segmentation/wordWise/output/words'"
   ]
  },
  {
   "cell_type": "code",
   "execution_count": 3,
   "metadata": {},
   "outputs": [
    {
     "name": "stdout",
     "output_type": "stream",
     "text": [
      "code complete\n"
     ]
    }
   ],
   "source": [
    "for rowName in os.listdir(inputRowPath):\n",
    "    \n",
    "    if not rowName.startswith('.'):\n",
    "        rowNumber= rowNumber+1\n",
    "        rowDirectory= 'row'+ str(rowNumber)\n",
    "        finalRowPath= os.path.join(inputRowPath, rowDirectory)\n",
    "        wordNumber= 0\n",
    "        for fileName in os.listdir(finalRowPath):\n",
    "            img=cv2.imread(os.path.join(finalRowPath, fileName))\n",
    "            if img is None:\n",
    "                continue\n",
    "            finalOutputRowPath= os.path.join(outputRowPath, rowDirectory)\n",
    "            os.makedirs(finalOutputRowPath,exist_ok = True)\n",
    "            \n",
    "            wordNumber= wordNumber+1\n",
    "            wordDirectory= 'word'+ str(wordNumber)\n",
    "            wordPath= os.path.join(finalOutputRowPath, wordDirectory)\n",
    "            os.makedirs(wordPath,exist_ok = True)\n",
    "            \n",
    "            \n",
    "            rows,cols,w = img.shape\n",
    "\n",
    "            gray_image = cv2.cvtColor(img, cv2.COLOR_BGR2GRAY)\n",
    "            ret, threshold = cv2.threshold(gray_image,200,255,cv2.THRESH_BINARY)\n",
    "            #dilating\n",
    "            kernel = cv2.getStructuringElement(cv2.MORPH_RECT, (2,2000))\n",
    "            dilation = cv2.dilate(threshold,kernel,iterations = 16)\n",
    "            th2= dilation.copy()\n",
    "\n",
    "\n",
    "            ret, threshold = cv2.threshold(th2,200,255,cv2.THRESH_BINARY_INV)\n",
    "            kernel = cv2.getStructuringElement(cv2.MORPH_RECT, (2,2000))\n",
    "            erosion = cv2.erode(threshold,kernel,iterations = 8)\n",
    "            ret, threshold1 = cv2.threshold(erosion,200,255,cv2.THRESH_BINARY_INV)\n",
    "\n",
    "            k= threshold1.copy()\n",
    "\n",
    "            #defining the edges\n",
    "            edges = cv2.Canny(k,50,150,apertureSize = 3)\n",
    "\n",
    "\n",
    "            m=[]\n",
    "            minLineLength = 100\n",
    "            maxLineGap = 10\n",
    "            lines = cv2.HoughLinesP(edges,1,np.pi/180,15,minLineLength,maxLineGap)\n",
    "            for x in range(0, len(lines)):\n",
    "                    for x1,y1,x2,y2 in lines[x]:\n",
    "                            m.append(((x1,y1),(x2,y2)))\n",
    "\n",
    "\n",
    "            sorted_m=sorted(m, key=lambda x: x[0][0])\n",
    "\n",
    "\n",
    "            #drawing lines\n",
    "            for i in range(len(sorted_m)):\n",
    "                    cv2.line(img,sorted_m[i][0],sorted_m[i][1],(0,0,255),2)\n",
    "\n",
    "            hough_lines= img.copy()\n",
    "            p=[]\n",
    "            sorted_m.append(((cols,rows),(cols,0)))\n",
    "\n",
    "            size= (28, 28)\n",
    "\n",
    "            count= 0\n",
    "        \n",
    "            for i in range(len(sorted_m)-1):\n",
    "                p.append(hough_lines[sorted_m[i][1][1]:sorted_m[i][0][1],sorted_m[i][0][0]: sorted_m[i+1][0][0]])\n",
    "                image = cv2.cvtColor(p[i], cv2.COLOR_BGR2GRAY)\n",
    "                ret, o = cv2.threshold(image, 200, 255, cv2.THRESH_BINARY)\n",
    "                if cv2.countNonZero(o) >0:\n",
    "                    cv2.imwrite('/Users/abhishekpandey/Desktop/stuff/MajorProject/main/segmentation/charWise/verticalSegmention/Output_1_row_'+str(part)+'_'+'col_'+str(i)+'.jpg', o)\n",
    "\n",
    "                    preProces_img= Image.open('/Users/abhishekpandey/Desktop/stuff/MajorProject/main/segmentation/charWise/verticalSegmention/Output_1_row_'+str(part)+'_'+'col_'+str(i)+'.jpg')\n",
    "\n",
    "                    background_img= Image.open('/Users/abhishekpandey/Desktop/stuff/MajorProject/main/segmentation/charWise/black.png')\n",
    "                    background_img.paste(preProces_img, (10,3))\n",
    "                    box=(0,0,70,100)\n",
    "                    cropped_image=background_img.crop(box)\n",
    "                    resized_image=cropped_image.resize((28,28))\n",
    "                    imageNumber= 'chatacter'+str(i)+'.jpg'\n",
    "                    imagePath= os.path.join(wordPath, imageNumber)\n",
    "                    resized_image.save(imagePath)\n",
    "                   \n",
    "            part=part+1\n",
    "\n",
    "\n",
    "\n",
    "\n",
    "print(\"code complete\")"
   ]
  },
  {
   "cell_type": "code",
   "execution_count": null,
   "metadata": {},
   "outputs": [],
   "source": []
  }
 ],
 "metadata": {
  "kernelspec": {
   "display_name": "Python 3",
   "language": "python",
   "name": "python3"
  },
  "language_info": {
   "codemirror_mode": {
    "name": "ipython",
    "version": 3
   },
   "file_extension": ".py",
   "mimetype": "text/x-python",
   "name": "python",
   "nbconvert_exporter": "python",
   "pygments_lexer": "ipython3",
   "version": "3.7.4"
  }
 },
 "nbformat": 4,
 "nbformat_minor": 2
}
