{
 "cells": [
  {
   "cell_type": "code",
   "execution_count": 1,
   "metadata": {},
   "outputs": [],
   "source": [
    "import cv2\n",
    "import numpy as np\n",
    "import math"
   ]
  },
  {
   "cell_type": "code",
   "execution_count": 2,
   "metadata": {},
   "outputs": [],
   "source": [
    "th2=cv2.imread('/Users/abhishekpandey/Desktop/stuff/MajorProject/main/preprocessing/blobCenter/blobCenter.jpg')\n"
   ]
  },
  {
   "cell_type": "code",
   "execution_count": 3,
   "metadata": {},
   "outputs": [],
   "source": [
    "r,c,w=th2.shape\n",
    "\n",
    "\n",
    "horizontalStructure = cv2.getStructuringElement(cv2.MORPH_RECT, (6000,10))\n",
    "horizontal = cv2.dilate(th2, horizontalStructure, (-1, -1))\n"
   ]
  },
  {
   "cell_type": "code",
   "execution_count": 4,
   "metadata": {},
   "outputs": [],
   "source": [
    "cv2.imwrite(\"/Users/abhishekpandey/Desktop/stuff/MajorProject/main/segmentation/horizontal/output/ip_11/horizontal.jpg\", horizontal)\n",
    "img2=cv2.imread('/Users/abhishekpandey/Desktop/stuff/MajorProject/main/segmentation/horizontal/output/ip_11/horizontal.jpg')\n",
    "\n",
    "\n",
    "ret, threshold = cv2.threshold(img2,200,255,cv2.THRESH_BINARY_INV)\n",
    "kernel = cv2.getStructuringElement(cv2.MORPH_RECT, (6000,2))\n",
    "erosion = cv2.erode(threshold,kernel,iterations = 2)"
   ]
  },
  {
   "cell_type": "code",
   "execution_count": 5,
   "metadata": {},
   "outputs": [
    {
     "data": {
      "text/plain": [
       "True"
      ]
     },
     "execution_count": 5,
     "metadata": {},
     "output_type": "execute_result"
    }
   ],
   "source": [
    "cv2.imwrite(\"/Users/abhishekpandey/Desktop/stuff/MajorProject/main/segmentation/horizontal/output/ip_11/horizontal_erode.jpg\", erosion)\n",
    "img = cv2.imread('/Users/abhishekpandey/Desktop/stuff/MajorProject/main/segmentation/horizontal/output/ip_11/horizontal_erode.jpg')\n",
    "\n",
    "\n",
    "edges = cv2.Canny(img,50,150,apertureSize = 3)\n",
    "cv2.imwrite('/Users/abhishekpandey/Desktop/stuff/MajorProject/main/segmentation/horizontal/output/ip_11/edges.jpg',edges)\n"
   ]
  },
  {
   "cell_type": "code",
   "execution_count": 6,
   "metadata": {},
   "outputs": [],
   "source": [
    "m=[]\n",
    "\n",
    "minLineLength = 100\n",
    "maxLineGap = 10\n",
    "lines = cv2.HoughLinesP(edges,1,np.pi/180,15,minLineLength,maxLineGap)\n",
    "for x in range(0, len(lines)):\n",
    "        for x1,y1,x2,y2 in lines[x]:\n",
    "                m.append(((x1,y1),(x2,y2)))"
   ]
  },
  {
   "cell_type": "code",
   "execution_count": 7,
   "metadata": {},
   "outputs": [],
   "source": [
    "sorted_m=sorted(m, key=lambda x: x[0][1])\n"
   ]
  },
  {
   "cell_type": "code",
   "execution_count": 8,
   "metadata": {},
   "outputs": [],
   "source": [
    "sorted_m.insert(0,((0,0),(c,0)))\n",
    "\n",
    "\n",
    "for i in range (0,len(sorted_m)):\n",
    "    cv2.line(th2,sorted_m[i][0],sorted_m[i][1],(0,0,255),2)\n",
    "    "
   ]
  },
  {
   "cell_type": "code",
   "execution_count": 9,
   "metadata": {},
   "outputs": [],
   "source": [
    "cv2.imwrite('/Users/abhishekpandey/Desktop/stuff/MajorProject/main/segmentation/horizontal/output/ip_11/hough_lines.png',th2)\n",
    "s=cv2.imread('/Users/abhishekpandey/Desktop/stuff/MajorProject/main/segmentation/horizontal/output/ip_11/hough_lines.png')\n"
   ]
  },
  {
   "cell_type": "code",
   "execution_count": 10,
   "metadata": {},
   "outputs": [],
   "source": [
    "p=[]\n",
    "for i in range (0,len(sorted_m)):\n",
    "    if i!=len(sorted_m)-1:\n",
    "        p.append(th2[sorted_m[i][0][1]:sorted_m[i+1][0][1],sorted_m[i][0][0]:sorted_m[i][1][0]])\n",
    "    else:\n",
    "        p.append(th2[sorted_m[len(lines)-2][0][1]:r, sorted_m[len(lines)][0][0]:sorted_m[len(lines)][1][0]])"
   ]
  },
  {
   "cell_type": "code",
   "execution_count": 12,
   "metadata": {},
   "outputs": [
    {
     "name": "stdout",
     "output_type": "stream",
     "text": [
      "(24, 1280, 3)\n",
      "(89, 1279, 3)\n",
      "(23, 1279, 3)\n",
      "(89, 1279, 3)\n",
      "(26, 1279, 3)\n",
      "(83, 1279, 3)\n",
      "(130, 1279, 3)\n"
     ]
    }
   ],
   "source": [
    "pix=[]\n",
    "\n",
    "#gray_image = cv2.cvtColor(img, cv2.COLOR_BGR2GRAY)\n",
    "for x in range(len(p)):\n",
    "    def contains_white(img):\n",
    "        print(img.shape)\n",
    "        gray_image = cv2.cvtColor(img, cv2.COLOR_BGR2GRAY)\n",
    "        ret, threshold = cv2.threshold(gray_image,100,255,cv2.THRESH_BINARY)\n",
    "        h,w,l=img.shape\n",
    "        for i in range(h):\n",
    "            for j in range(w):\n",
    "                if threshold[i][j]==255:\n",
    "                    return True\n",
    "            \n",
    "    result= contains_white(p[x])\n",
    "\n",
    "\n",
    "    if result== True:\n",
    "        pix.append(p[x])"
   ]
  },
  {
   "cell_type": "code",
   "execution_count": 13,
   "metadata": {},
   "outputs": [],
   "source": [
    "for i in range(len(pix)-1):\n",
    "    cv2.imwrite('/Users/abhishekpandey/Desktop/stuff/MajorProject/main/segmentation/horizontal/output/ip_11/output/row' +str(i)+'.jpg',pix[i])\n",
    "\n",
    "cv2.waitKey(0)\n",
    "cv2.destroyAllWindows()"
   ]
  },
  {
   "cell_type": "code",
   "execution_count": null,
   "metadata": {},
   "outputs": [],
   "source": []
  }
 ],
 "metadata": {
  "kernelspec": {
   "display_name": "Python 3",
   "language": "python",
   "name": "python3"
  },
  "language_info": {
   "codemirror_mode": {
    "name": "ipython",
    "version": 3
   },
   "file_extension": ".py",
   "mimetype": "text/x-python",
   "name": "python",
   "nbconvert_exporter": "python",
   "pygments_lexer": "ipython3",
   "version": "3.7.4"
  }
 },
 "nbformat": 4,
 "nbformat_minor": 2
}
