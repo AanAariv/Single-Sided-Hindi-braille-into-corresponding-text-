{
 "cells": [
  {
   "cell_type": "code",
   "execution_count": 3,
   "metadata": {},
   "outputs": [],
   "source": [
    "import cv2\n",
    "import matplotlib.pyplot as plt\n",
    "import numpy as np"
   ]
  },
  {
   "cell_type": "code",
   "execution_count": 4,
   "metadata": {},
   "outputs": [
    {
     "name": "stdout",
     "output_type": "stream",
     "text": [
      "0.000646871\n"
     ]
    }
   ],
   "source": [
    "def main():\n",
    "    path=\"/Users/abhishekpandey/Desktop/stuff/MajorProject/main/preprocessing/erosion/erosion.jpg\"\n",
    "    img= cv2.imread(path)\n",
    "    op_path= \"/Users/abhishekpandey/Desktop/stuff/MajorProject/main/preprocessing/dilation/dilation.jpg\"\n",
    "    e1 = cv2.getTickCount() \n",
    "    #th=180\n",
    "    #max_val =255\n",
    "    #ret,binary_inv =cv2.threshold(img,th,max_val,cv2.THRESH_BINARY)\n",
    "    #k= np.ones((3,3), np.uint8)\n",
    "    k=cv2.getStructuringElement(cv2.MORPH_ELLIPSE,(3,3))\n",
    "    dilation= cv2.dilate(img, k, iterations=2)\n",
    "    e2= cv2.getTickCount()\n",
    "    time= (e2-e1)/cv2.getTickFrequency()\n",
    "    print(time)\n",
    "\n",
    "    cv2.imwrite(op_path, dilation)\n",
    "\n",
    "if __name__== \"__main__\":\n",
    "    main()"
   ]
  },
  {
   "cell_type": "code",
   "execution_count": null,
   "metadata": {},
   "outputs": [],
   "source": []
  }
 ],
 "metadata": {
  "kernelspec": {
   "display_name": "Python 3",
   "language": "python",
   "name": "python3"
  },
  "language_info": {
   "codemirror_mode": {
    "name": "ipython",
    "version": 3
   },
   "file_extension": ".py",
   "mimetype": "text/x-python",
   "name": "python",
   "nbconvert_exporter": "python",
   "pygments_lexer": "ipython3",
   "version": "3.7.4"
  }
 },
 "nbformat": 4,
 "nbformat_minor": 2
}
