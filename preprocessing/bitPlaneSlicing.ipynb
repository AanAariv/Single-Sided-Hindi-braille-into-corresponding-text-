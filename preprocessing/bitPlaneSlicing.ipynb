{
 "cells": [
  {
   "cell_type": "code",
   "execution_count": 5,
   "metadata": {},
   "outputs": [],
   "source": [
    "import numpy as np\n",
    "import cv2"
   ]
  },
  {
   "cell_type": "code",
   "execution_count": 6,
   "metadata": {},
   "outputs": [],
   "source": [
    "img = cv2.imread(\"/Users/abhishekpandey/Desktop/stuff/MajorProject/main/preprocessing/gamma/gamma.jpg\",0)\n",
    "op_path= \"/Users/abhishekpandey/Desktop/stuff/MajorProject/main/preprocessing/bitsplice/bitsplice.jpg\"\n"
   ]
  },
  {
   "cell_type": "code",
   "execution_count": 7,
   "metadata": {},
   "outputs": [
    {
     "name": "stdout",
     "output_type": "stream",
     "text": [
      "2.607824914\n"
     ]
    }
   ],
   "source": [
    "e1 = cv2.getTickCount() \n",
    "#Iterate over each pixel and change pixel value to binary using np.binary_repr() and store it in a list.\n",
    "lst = []\n",
    "for i in range(img.shape[0]):\n",
    "    for j in range(img.shape[1]):\n",
    "         lst.append(np.binary_repr(img[i][j] ,width=8)) # width = no. of bits\n",
    " \n",
    "# We have a list of strings where each string represents binary pixel value. \n",
    "#To extract bit planes we need to iterate over the strings and store the characters corresponding to bit planes into lists.\n",
    "# Multiply with 2^(n-1) and reshape to reconstruct the bit image.\n",
    "eight_bit_img = (np.array([int(i[0]) for i in lst],dtype = np.uint8) * 128).reshape(img.shape[0],img.shape[1])\n",
    "\n",
    " # Combining 4 bit planes\n",
    "new_img = eight_bit_img\n",
    "e2= cv2.getTickCount()\n",
    "time= (e2-e1)/cv2.getTickFrequency()\n",
    "print(time)"
   ]
  },
  {
   "cell_type": "code",
   "execution_count": 8,
   "metadata": {},
   "outputs": [
    {
     "data": {
      "text/plain": [
       "True"
      ]
     },
     "execution_count": 8,
     "metadata": {},
     "output_type": "execute_result"
    }
   ],
   "source": [
    "cv2.imwrite(op_path,new_img)"
   ]
  },
  {
   "cell_type": "code",
   "execution_count": null,
   "metadata": {},
   "outputs": [],
   "source": []
  }
 ],
 "metadata": {
  "kernelspec": {
   "display_name": "Python 3",
   "language": "python",
   "name": "python3"
  },
  "language_info": {
   "codemirror_mode": {
    "name": "ipython",
    "version": 3
   },
   "file_extension": ".py",
   "mimetype": "text/x-python",
   "name": "python",
   "nbconvert_exporter": "python",
   "pygments_lexer": "ipython3",
   "version": "3.7.4"
  }
 },
 "nbformat": 4,
 "nbformat_minor": 2
}
