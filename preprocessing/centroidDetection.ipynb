{
 "cells": [
  {
   "cell_type": "code",
   "execution_count": 1,
   "metadata": {},
   "outputs": [],
   "source": [
    "import cv2\n",
    "import numpy as np"
   ]
  },
  {
   "cell_type": "code",
   "execution_count": 2,
   "metadata": {},
   "outputs": [],
   "source": [
    "img = cv2.imread(\"/Users/abhishekpandey/Desktop/stuff/MajorProject/main/preprocessing/dilation/dilation.jpg\")\n",
    "output_path= \"/Users/abhishekpandey/Desktop/stuff/MajorProject/main/preprocessing/blobCenter/blobCenter.jpg\"\n"
   ]
  },
  {
   "cell_type": "code",
   "execution_count": 3,
   "metadata": {},
   "outputs": [],
   "source": [
    "k= np.ones((3,3), np.uint8)\n",
    "erosion= cv2.erode(img, k, iterations=30)\n",
    "\n",
    "# convert the image to grayscale\n",
    "gray_image = cv2.cvtColor(img, cv2.COLOR_BGR2GRAY)\n",
    "\n",
    "# convert the grayscale image to binary image\n",
    "ret,thresh = cv2.threshold(gray_image,127,255,0)\n",
    " \n",
    "# find contours in the binary image\n",
    "contours, hierarchy = cv2.findContours(thresh,cv2.RETR_TREE,cv2.CHAIN_APPROX_SIMPLE)\n",
    "#result_img = cv2.cvtColor(img, cv2.COLOR_BGR2HSV)\n",
    "for c in contours:\n",
    "   # calculate moments for each contour\n",
    "   M = cv2.moments(c)\n",
    "  \n",
    "   # calculate x,y coordinate of center\n",
    "   cX = int(M[\"m10\"] / M[\"m00\"])\n",
    "   cY = int(M[\"m01\"] / M[\"m00\"])\n",
    "   image=cv2.circle(erosion, (cX, cY), 5, (255, 255, 255), -1)"
   ]
  },
  {
   "cell_type": "code",
   "execution_count": 4,
   "metadata": {},
   "outputs": [
    {
     "data": {
      "text/plain": [
       "True"
      ]
     },
     "execution_count": 4,
     "metadata": {},
     "output_type": "execute_result"
    }
   ],
   "source": [
    "cv2.imwrite(output_path, image)\n"
   ]
  },
  {
   "cell_type": "code",
   "execution_count": null,
   "metadata": {},
   "outputs": [],
   "source": []
  }
 ],
 "metadata": {
  "kernelspec": {
   "display_name": "Python 3",
   "language": "python",
   "name": "python3"
  },
  "language_info": {
   "codemirror_mode": {
    "name": "ipython",
    "version": 3
   },
   "file_extension": ".py",
   "mimetype": "text/x-python",
   "name": "python",
   "nbconvert_exporter": "python",
   "pygments_lexer": "ipython3",
   "version": "3.7.4"
  }
 },
 "nbformat": 4,
 "nbformat_minor": 2
}
