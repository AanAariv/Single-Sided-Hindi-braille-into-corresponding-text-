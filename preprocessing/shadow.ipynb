{
 "cells": [
  {
   "cell_type": "code",
   "execution_count": 5,
   "metadata": {},
   "outputs": [],
   "source": [
    "import cv2\n",
    "import numpy as np"
   ]
  },
  {
   "cell_type": "code",
   "execution_count": 6,
   "metadata": {},
   "outputs": [],
   "source": [
    "img = cv2.imread('/Users/abhishekpandey/Desktop/stuff/MajorProject/main/preprocessing/grayscale/grayscale.jpg')\n"
   ]
  },
  {
   "cell_type": "code",
   "execution_count": 7,
   "metadata": {},
   "outputs": [],
   "source": [
    "rgb_planes = cv2.split(img)\n",
    "\n",
    "result_planes = []\n",
    "result_norm_planes = []\n",
    "for plane in rgb_planes:\n",
    "    dilated_img = cv2.dilate(plane, np.ones((9,9), np.uint8))\n",
    "    bg_img = cv2.medianBlur(dilated_img, 15)\n",
    "    diff_img = 255 - cv2.absdiff(plane, bg_img)\n",
    "    norm_img = cv2.normalize(diff_img,None, alpha=0, beta=255, norm_type=cv2.NORM_MINMAX, dtype=cv2.CV_8UC1)\n",
    "    result_planes.append(diff_img)\n",
    "    result_norm_planes.append(norm_img)\n",
    "\n",
    "result = cv2.merge(result_planes)\n",
    "result_norm = cv2.merge(result_norm_planes)\n"
   ]
  },
  {
   "cell_type": "code",
   "execution_count": 8,
   "metadata": {},
   "outputs": [
    {
     "data": {
      "text/plain": [
       "True"
      ]
     },
     "execution_count": 8,
     "metadata": {},
     "output_type": "execute_result"
    }
   ],
   "source": [
    "cv2.imwrite('/Users/abhishekpandey/Desktop/stuff/MajorProject/main/preprocessing/shadow/shadow.jpg', result_norm)"
   ]
  },
  {
   "cell_type": "code",
   "execution_count": null,
   "metadata": {},
   "outputs": [],
   "source": []
  }
 ],
 "metadata": {
  "kernelspec": {
   "display_name": "Python 3",
   "language": "python",
   "name": "python3"
  },
  "language_info": {
   "codemirror_mode": {
    "name": "ipython",
    "version": 3
   },
   "file_extension": ".py",
   "mimetype": "text/x-python",
   "name": "python",
   "nbconvert_exporter": "python",
   "pygments_lexer": "ipython3",
   "version": "3.7.4"
  }
 },
 "nbformat": 4,
 "nbformat_minor": 2
}
